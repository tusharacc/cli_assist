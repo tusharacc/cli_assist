Unable to connect to any LLM backend. Please check your configuration:
- Ollama: ✅
- OpenAI/REST API: ❌ Not configured
- Enterprise LLM: ❌ Not configured

Run 'lumos-cli setup' to configure backends.
Original error: Client error '404 Not Found' for url 'http://localhost:11434/api/chat'
For more information check: https://developer.mozilla.org/en-US/docs/Web/HTTP/Status/404